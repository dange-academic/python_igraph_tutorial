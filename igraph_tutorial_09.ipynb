{
 "cells": [
  {
   "cell_type": "markdown",
   "id": "56420de0",
   "metadata": {},
   "source": [
    "# Python-igraph编程实践基础教程：igraph官方手册使用解读"
   ]
  },
  {
   "cell_type": "markdown",
   "id": "8d7192ca",
   "metadata": {},
   "source": [
    "## igraph编程实践基础教程第09课：官方示例讲解-Quick Start"
   ]
  },
  {
   "cell_type": "code",
   "execution_count": 1,
   "id": "9690417e",
   "metadata": {},
   "outputs": [],
   "source": [
    "# !/usr/bin/python3\n",
    "# -*- coding: utf-8 -*-\n",
    "# Author ： 单哥的科研日常（公众号、B站）\n",
    "# 示例程序所用库的版本：igraph==0.10.4"
   ]
  },
  {
   "cell_type": "markdown",
   "id": "b9a2ccc5",
   "metadata": {},
   "source": [
    "#### 对于着急入门igraph的初学者来说，这篇介绍将给你一个以下操作的快速概述：\n",
    "#### （1）建立一个图\n",
    "#### （2）设置节点和边的属性\n",
    "#### （3）使用matplotlib绘制图\n",
    "#### （4）将可视化的图保存下来\n",
    "#### （5）以.gml文件的形式导出和导入图形"
   ]
  },
  {
   "cell_type": "code",
   "execution_count": 2,
   "id": "09b99de9",
   "metadata": {},
   "outputs": [],
   "source": [
    "import igraph as ig\n",
    "import matplotlib.pyplot as plt"
   ]
  },
  {
   "cell_type": "code",
   "execution_count": 3,
   "id": "507ad59b",
   "metadata": {},
   "outputs": [],
   "source": [
    "# 构造一个有5个顶点的图\n",
    "n_vertices = 5\n",
    "edges = [(0, 1), (0, 2), (0, 3), (0, 4), (1, 2), (1, 3), (1, 4), (3, 4)]\n",
    "g = ig.Graph(n_vertices, edges)"
   ]
  },
  {
   "cell_type": "code",
   "execution_count": 4,
   "id": "67314748",
   "metadata": {},
   "outputs": [],
   "source": [
    "# 设置图、节点和边的属性\n",
    "g[\"title\"] = \"Small Social Network\"\n",
    "g.vs[\"name\"] = [\"Daniel Morillas\", \"Kathy Archer\", \"Kyle Ding\", \"Joshua Walton\", \"Jana Hoyer\"]\n",
    "g.vs[\"gender\"] = [\"M\", \"F\", \"F\", \"M\", \"F\"]\n",
    "g.es[\"married\"] = [False, False, False, False, False, False, False, True]\n",
    "\n",
    "# 更改已设置的节点和连边属性\n",
    "g.vs[1][\"name\"] = \"Kathy Morillas\"\n",
    "g.es[0][\"married\"] = True"
   ]
  },
  {
   "cell_type": "code",
   "execution_count": 5,
   "id": "2f1ca83e",
   "metadata": {},
   "outputs": [
    {
     "data": {
      "image/png": "[encoded data removed]",
      "text/plain": [
       "<Figure size 500x500 with 1 Axes>"
      ]
     },
     "metadata": {},
     "output_type": "display_data"
    }
   ],
   "source": [
    "# 借助matplotlib绘图\n",
    "# 注意属性可以全局设置(例如vertex_size)，也可以使用数组单独设置(例如vertex_color)。\n",
    "fig, ax = plt.subplots(figsize=(5,5))\n",
    "ig.plot(\n",
    "    g,\n",
    "    target=ax,\n",
    "    layout=\"circle\", # 设置布局为circular layout\n",
    "    vertex_size=0.5,\n",
    "    vertex_color=[\"blue\" if gender == \"M\" else \"orange\" for gender in g.vs[\"gender\"]],\n",
    "    vertex_frame_width=4.0,\n",
    "    vertex_frame_color=\"white\",\n",
    "    vertex_label=g.vs[\"name\"],\n",
    "    vertex_label_size=12.0,\n",
    "    edge_width=[2 if married else 1 for married in g.es[\"married\"]],\n",
    "    edge_color=[\"lime\" if married else \"gray\" for married in g.es[\"married\"]]\n",
    ")\n",
    "\n",
    "plt.show()\n",
    "\n",
    "# 将可视化的图保存为图文件\n",
    "fig.savefig('./attached files/social_network.png', dpi=300)\n",
    "fig.savefig('./attached files/social_network.jpg', dpi=300)\n",
    "fig.savefig('./attached files/social_network.pdf')"
   ]
  },
  {
   "cell_type": "code",
   "execution_count": 6,
   "id": "9fcb8eca",
   "metadata": {},
   "outputs": [
    {
     "name": "stderr",
     "output_type": "stream",
     "text": [
      "D:\\python396\\lib\\site-packages\\igraph\\io\\files.py:494: RuntimeWarning: The boolean edge attribute 'married' was converted to numeric. at src/io/gml.c:1281\n",
      "  return writer(f, *args, **kwds)\n"
     ]
    }
   ],
   "source": [
    "# 将图作为gml文件导出和导入\n",
    "g.save(\"./attached files/social_network.gml\")\n",
    "g = ig.load(\"./attached files/social_network.gml\")"
   ]
  },
  {
   "cell_type": "code",
   "execution_count": 7,
   "id": "43a572f3",
   "metadata": {},
   "outputs": [
    {
     "data": {
      "image/svg+xml": [
       "<?xml version=\"1.0\" encoding=\"UTF-8\"?>\n",
       "<svg xmlns=\"http://www.w3.org/2000/svg\" xmlns:xlink=\"http://www.w3.org/1999/xlink\" width=\"300pt\" height=\"300pt\" viewBox=\"0 0 300 300\" version=\"1.1\">\n",
       "<g id=\"surface2\">\n",
       "<rect x=\"0\" y=\"0\" width=\"300\" height=\"300\" style=\"fill:rgb(100%,100%,100%);fill-opacity:1;stroke:none;\"/>\n",
       "<path style=\"fill:none;stroke-width:1;stroke-linecap:butt;stroke-linejoin:miter;stroke:rgb(26.666667%,26.666667%,26.666667%);stroke-opacity:1;stroke-miterlimit:10;\" d=\"M 280 143.863281 L 33.488281 148.347656 \"/>\n",
       "<path style=\"fill:none;stroke-width:1;stroke-linecap:butt;stroke-linejoin:miter;stroke:rgb(26.666667%,26.666667%,26.666667%);stroke-opacity:1;stroke-miterlimit:10;\" d=\"M 280 143.863281 L 167.390625 280 \"/>\n",
       "<path style=\"fill:none;stroke-width:1;stroke-linecap:butt;stroke-linejoin:miter;stroke:rgb(26.666667%,26.666667%,26.666667%);stroke-opacity:1;stroke-miterlimit:10;\" d=\"M 280 143.863281 L 20 24.617188 \"/>\n",
       "<path style=\"fill:none;stroke-width:1;stroke-linecap:butt;stroke-linejoin:miter;stroke:rgb(26.666667%,26.666667%,26.666667%);stroke-opacity:1;stroke-miterlimit:10;\" d=\"M 280 143.863281 L 273.804688 20 \"/>\n",
       "<path style=\"fill:none;stroke-width:1;stroke-linecap:butt;stroke-linejoin:miter;stroke:rgb(26.666667%,26.666667%,26.666667%);stroke-opacity:1;stroke-miterlimit:10;\" d=\"M 33.488281 148.347656 L 167.390625 280 \"/>\n",
       "<path style=\"fill:none;stroke-width:1;stroke-linecap:butt;stroke-linejoin:miter;stroke:rgb(26.666667%,26.666667%,26.666667%);stroke-opacity:1;stroke-miterlimit:10;\" d=\"M 33.488281 148.347656 L 20 24.617188 \"/>\n",
       "<path style=\"fill:none;stroke-width:1;stroke-linecap:butt;stroke-linejoin:miter;stroke:rgb(26.666667%,26.666667%,26.666667%);stroke-opacity:1;stroke-miterlimit:10;\" d=\"M 33.488281 148.347656 L 273.804688 20 \"/>\n",
       "<path style=\"fill:none;stroke-width:1;stroke-linecap:butt;stroke-linejoin:miter;stroke:rgb(26.666667%,26.666667%,26.666667%);stroke-opacity:1;stroke-miterlimit:10;\" d=\"M 20 24.617188 L 273.804688 20 \"/>\n",
       "<path style=\"fill-rule:nonzero;fill:rgb(100%,0%,0%);fill-opacity:1;stroke-width:1;stroke-linecap:butt;stroke-linejoin:miter;stroke:rgb(0%,0%,0%);stroke-opacity:1;stroke-miterlimit:10;\" d=\"M 290 143.863281 C 290 149.386719 285.523438 153.863281 280 153.863281 C 274.476563 153.863281 270 149.386719 270 143.863281 C 270 138.339844 274.476563 133.863281 280 133.863281 C 285.523438 133.863281 290 138.339844 290 143.863281 \"/>\n",
       "<path style=\"fill-rule:nonzero;fill:rgb(100%,0%,0%);fill-opacity:1;stroke-width:1;stroke-linecap:butt;stroke-linejoin:miter;stroke:rgb(0%,0%,0%);stroke-opacity:1;stroke-miterlimit:10;\" d=\"M 43.488281 148.347656 C 43.488281 153.871094 39.011719 158.347656 33.488281 158.347656 C 27.964844 158.347656 23.488281 153.871094 23.488281 148.347656 C 23.488281 142.824219 27.964844 138.347656 33.488281 138.347656 C 39.011719 138.347656 43.488281 142.824219 43.488281 148.347656 \"/>\n",
       "<path style=\"fill-rule:nonzero;fill:rgb(100%,0%,0%);fill-opacity:1;stroke-width:1;stroke-linecap:butt;stroke-linejoin:miter;stroke:rgb(0%,0%,0%);stroke-opacity:1;stroke-miterlimit:10;\" d=\"M 177.390625 280 C 177.390625 285.523438 172.910156 290 167.390625 290 C 161.867188 290 157.390625 285.523438 157.390625 280 C 157.390625 274.476563 161.867188 270 167.390625 270 C 172.910156 270 177.390625 274.476563 177.390625 280 \"/>\n",
       "<path style=\"fill-rule:nonzero;fill:rgb(100%,0%,0%);fill-opacity:1;stroke-width:1;stroke-linecap:butt;stroke-linejoin:miter;stroke:rgb(0%,0%,0%);stroke-opacity:1;stroke-miterlimit:10;\" d=\"M 30 24.617188 C 30 30.140625 25.523438 34.617188 20 34.617188 C 14.476563 34.617188 10 30.140625 10 24.617188 C 10 19.09375 14.476563 14.617188 20 14.617188 C 25.523438 14.617188 30 19.09375 30 24.617188 \"/>\n",
       "<path style=\"fill-rule:nonzero;fill:rgb(100%,0%,0%);fill-opacity:1;stroke-width:1;stroke-linecap:butt;stroke-linejoin:miter;stroke:rgb(0%,0%,0%);stroke-opacity:1;stroke-miterlimit:10;\" d=\"M 283.804688 20 C 283.804688 25.523438 279.328125 30 273.804688 30 C 268.28125 30 263.804688 25.523438 263.804688 20 C 263.804688 14.476563 268.28125 10 273.804688 10 C 279.328125 10 283.804688 14.476563 283.804688 20 \"/>\n",
       "</g>\n",
       "</svg>\n"
      ],
      "text/plain": [
       "<igraph.drawing.cairo.plot.CairoPlot at 0x208c674d520>"
      ]
     },
     "execution_count": 7,
     "metadata": {
      "image/svg+xml": {
       "isolated": true
      }
     },
     "output_type": "execute_result"
    }
   ],
   "source": [
    "ig.plot(g, bbox=(300, 300))"
   ]
  },
  {
   "cell_type": "code",
   "execution_count": null,
   "id": "1a9c5316",
   "metadata": {},
   "outputs": [],
   "source": []
  }
 ],
 "metadata": {
  "kernelspec": {
   "display_name": "Python 3 (ipykernel)",
   "language": "python",
   "name": "python3"
  },
  "language_info": {
   "codemirror_mode": {
    "name": "ipython",
    "version": 3
   },
   "file_extension": ".py",
   "mimetype": "text/x-python",
   "name": "python",
   "nbconvert_exporter": "python",
   "pygments_lexer": "ipython3",
   "version": "3.9.6"
  }
 },
 "nbformat": 4,
 "nbformat_minor": 5
}
